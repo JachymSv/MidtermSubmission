{
 "cells": [
  {
   "cell_type": "markdown",
   "metadata": {},
   "source": [
    "# This is my solution of the JEM207 midterm\n",
    "Jachym Svejda,\n",
    "UKČO: 62263721"
   ]
  },
  {
   "cell_type": "markdown",
   "metadata": {},
   "source": [
    "Import necessary packages:"
   ]
  },
  {
   "cell_type": "code",
   "execution_count": 2,
   "metadata": {},
   "outputs": [],
   "source": [
    "import pandas as pd\n",
    "import zipfile\n",
    "import numpy as np\n",
    "import matplotlib.pyplot as plt\n",
    "import datetime"
   ]
  },
  {
   "cell_type": "markdown",
   "metadata": {},
   "source": [
    "Part 1"
   ]
  },
  {
   "cell_type": "code",
   "execution_count": 22,
   "metadata": {},
   "outputs": [
    {
     "name": "stderr",
     "output_type": "stream",
     "text": [
      "/var/folders/zr/40yfwjmx6dqbjgkj5v1_d8r80000gn/T/ipykernel_35185/2285005259.py:1: FutureWarning: The argument 'date_parser' is deprecated and will be removed in a future version. Please use 'date_format' instead, or read your data in as 'object' dtype and then call 'to_datetime'.\n",
      "  AMGN = pd.read_csv(\"data/AMGN.csv\", parse_dates=['Date'], date_parser=lambda d: pd.to_datetime(d, format='ISO8601'))\n"
     ]
    }
   ],
   "source": [
    "AMGN = pd.read_csv(\"data/AMGN.csv\", parse_dates=['Date'], date_parser=lambda d: pd.to_datetime(d, format='ISO8601'))\n",
    "BA = pd.read_csv(\"data/BA.csv\")\n",
    "MRO =pd.read_csv(\"data/MRO.csv\")\n",
    "WYNN = pd.read_csv(\"data/WYNN.csv\")"
   ]
  },
  {
   "cell_type": "markdown",
   "metadata": {},
   "source": [
    "1. Is there a company that has no difference between the Close and Adj Close columns?\n",
    "What does it mean from the financial point of view for the stock (you can get bonus\n",
    "partial points)?"
   ]
  },
  {
   "cell_type": "code",
   "execution_count": 33,
   "metadata": {},
   "outputs": [],
   "source": [
    "AMGN[\"close_diff\"] = AMGN[\"Close\"] - AMGN[\"Adj Close\"]\n",
    "BA[\"close_diff\"] = BA[\"Close\"] - BA[\"Adj Close\"]\n",
    "MRO[\"close_diff\"] = MRO[\"Close\"] - MRO[\"Adj Close\"]\n",
    "WYNN[\"close_diff\"] = WYNN[\"Close\"] - WYNN[\"Adj Close\"]"
   ]
  },
  {
   "cell_type": "code",
   "execution_count": 34,
   "metadata": {},
   "outputs": [
    {
     "data": {
      "text/plain": [
       "(17467.891876220703, 5281.540069580078, 444.65273737907404, 3116.939598083496)"
      ]
     },
     "execution_count": 34,
     "metadata": {},
     "output_type": "execute_result"
    }
   ],
   "source": [
    "AMGN.close_diff.sum(), BA.close_diff.sum(), MRO.close_diff.sum(), WYNN.close_diff.sum()"
   ]
  },
  {
   "cell_type": "markdown",
   "metadata": {},
   "source": [
    "None of the values above are zero hence there is no company that has no difference between the Close and Adj Close columns.\n",
    "\n",
    "While closing price merely refers to the cost of shares at the end of the day, the adjusted closing price considers other factors like dividends, stock splits, and new stock offerings. I.e. we can assume that the companies pay e.g. dividiend etc."
   ]
  },
  {
   "cell_type": "markdown",
   "metadata": {},
   "source": [
    "2. What is the highest and lowest price (Adj Close) each company recorded?"
   ]
  },
  {
   "cell_type": "code",
   "execution_count": 35,
   "metadata": {},
   "outputs": [
    {
     "data": {
      "text/plain": [
       "(292.3900146484375, 145.319580078125)"
      ]
     },
     "execution_count": 35,
     "metadata": {},
     "output_type": "execute_result"
    }
   ],
   "source": [
    "#AMGN:\n",
    "AMGN[\"Adj Close\"].max(), AMGN[\"Adj Close\"].min()"
   ]
  },
  {
   "cell_type": "code",
   "execution_count": 36,
   "metadata": {},
   "outputs": [
    {
     "data": {
      "text/plain": [
       "(430.2999877929687, 95.01000213623048)"
      ]
     },
     "execution_count": 36,
     "metadata": {},
     "output_type": "execute_result"
    }
   ],
   "source": [
    "#BA\n",
    "BA[\"Adj Close\"].max(), BA[\"Adj Close\"].min()"
   ]
  },
  {
   "cell_type": "code",
   "execution_count": 37,
   "metadata": {},
   "outputs": [
    {
     "data": {
      "text/plain": [
       "(33.029998779296875, 3.048149585723877)"
      ]
     },
     "execution_count": 37,
     "metadata": {},
     "output_type": "execute_result"
    }
   ],
   "source": [
    "#MRO:\n",
    "MRO[\"Adj Close\"].max(), MRO[\"Adj Close\"].min()"
   ]
  },
  {
   "cell_type": "code",
   "execution_count": 39,
   "metadata": {},
   "outputs": [
    {
     "data": {
      "text/plain": [
       "(190.35609436035156, 43.02000045776367)"
      ]
     },
     "execution_count": 39,
     "metadata": {},
     "output_type": "execute_result"
    }
   ],
   "source": [
    "#WYNN:\n",
    "WYNN[\"Adj Close\"].max(), WYNN[\"Adj Close\"].min()"
   ]
  },
  {
   "cell_type": "markdown",
   "metadata": {},
   "source": [
    "3. (1pt task) Calculate logarithmic returns from Adj Close. For each company report on\n",
    "its, min, man, mean, median of the return distribution."
   ]
  },
  {
   "cell_type": "code",
   "execution_count": 43,
   "metadata": {},
   "outputs": [
    {
     "data": {
      "text/plain": [
       "min       4.978935\n",
       "max       5.678089\n",
       "mean      5.295582\n",
       "median    5.340335\n",
       "Name: log_adj_close, dtype: float64"
      ]
     },
     "execution_count": 43,
     "metadata": {},
     "output_type": "execute_result"
    }
   ],
   "source": [
    "AMGN[\"log_adj_close\"] = AMGN[\"Adj Close\"].apply(np.log)\n",
    "AMGN[\"log_adj_close\"].agg([min, max, np.mean, np.median])"
   ]
  },
  {
   "cell_type": "code",
   "execution_count": 44,
   "metadata": {},
   "outputs": [
    {
     "data": {
      "text/plain": [
       "min       4.553982\n",
       "max       6.064483\n",
       "mean      5.496171\n",
       "median    5.485834\n",
       "Name: log_adj_close, dtype: float64"
      ]
     },
     "execution_count": 44,
     "metadata": {},
     "output_type": "execute_result"
    }
   ],
   "source": [
    "BA[\"log_adj_close\"] = BA[\"Adj Close\"].apply(np.log)\n",
    "BA[\"log_adj_close\"].agg([min, max, np.mean, np.median])"
   ]
  },
  {
   "cell_type": "code",
   "execution_count": 45,
   "metadata": {},
   "outputs": [
    {
     "data": {
      "text/plain": [
       "min       1.114535\n",
       "max       3.497416\n",
       "mean      2.570115\n",
       "median    2.649175\n",
       "Name: log_adj_close, dtype: float64"
      ]
     },
     "execution_count": 45,
     "metadata": {},
     "output_type": "execute_result"
    }
   ],
   "source": [
    "MRO[\"log_adj_close\"] = MRO[\"Adj Close\"].apply(np.log)\n",
    "MRO[\"log_adj_close\"].agg([min, max, np.mean, np.median])"
   ]
  },
  {
   "cell_type": "code",
   "execution_count": 46,
   "metadata": {},
   "outputs": [
    {
     "data": {
      "text/plain": [
       "min       3.761665\n",
       "max       5.248896\n",
       "mean      4.644299\n",
       "median    4.684988\n",
       "Name: log_adj_close, dtype: float64"
      ]
     },
     "execution_count": 46,
     "metadata": {},
     "output_type": "execute_result"
    }
   ],
   "source": [
    "WYNN[\"log_adj_close\"] = WYNN[\"Adj Close\"].apply(np.log)\n",
    "WYNN[\"log_adj_close\"].agg([min, max, np.mean, np.median])"
   ]
  },
  {
   "cell_type": "markdown",
   "metadata": {},
   "source": [
    "4. When did each company record the highest gain and highest loss for the day?\n",
    "(logarithmic loss). Hint: idxmax"
   ]
  },
  {
   "cell_type": "code",
   "execution_count": 56,
   "metadata": {},
   "outputs": [
    {
     "data": {
      "text/plain": [
       "(1255   2022-11-08\n",
       " Name: Date, dtype: datetime64[ns],\n",
       " 94   2018-04-02\n",
       " Name: Date, dtype: datetime64[ns])"
      ]
     },
     "execution_count": 56,
     "metadata": {},
     "output_type": "execute_result"
    }
   ],
   "source": [
    "amgn_top_gain = AMGN[\"log_adj_close\"].max()\n",
    "amgn_top_loss = AMGN[\"log_adj_close\"].min()\n",
    "AMGN.loc[AMGN[\"log_adj_close\"] == amgn_top_gain][\"Date\"],AMGN.loc[AMGN[\"log_adj_close\"] == amgn_top_loss][\"Date\"]"
   ]
  },
  {
   "cell_type": "code",
   "execution_count": 57,
   "metadata": {},
   "outputs": [
    {
     "data": {
      "text/plain": [
       "(324    2019-03-01\n",
       " Name: Date, dtype: object,\n",
       " 590    2020-03-20\n",
       " Name: Date, dtype: object)"
      ]
     },
     "execution_count": 57,
     "metadata": {},
     "output_type": "execute_result"
    }
   ],
   "source": [
    "ba_top_gain = BA[\"log_adj_close\"].max()\n",
    "ba_top_loss = BA[\"log_adj_close\"].min()\n",
    "BA.loc[BA[\"log_adj_close\"] == ba_top_gain][\"Date\"],BA.loc[BA[\"log_adj_close\"] == ba_top_loss][\"Date\"]"
   ]
  },
  {
   "cell_type": "code",
   "execution_count": 58,
   "metadata": {},
   "outputs": [
    {
     "data": {
      "text/plain": [
       "(1254    2022-11-07\n",
       " Name: Date, dtype: object,\n",
       " 598    2020-04-01\n",
       " Name: Date, dtype: object)"
      ]
     },
     "execution_count": 58,
     "metadata": {},
     "output_type": "execute_result"
    }
   ],
   "source": [
    "mro_top_gain = MRO[\"log_adj_close\"].max()\n",
    "mro_top_loss = MRO[\"log_adj_close\"].min()\n",
    "MRO.loc[MRO[\"log_adj_close\"] == mro_top_gain][\"Date\"],MRO.loc[MRO[\"log_adj_close\"] == mro_top_loss][\"Date\"]"
   ]
  },
  {
   "cell_type": "code",
   "execution_count": 59,
   "metadata": {},
   "outputs": [
    {
     "data": {
      "text/plain": [
       "(122    2018-05-10\n",
       " Name: Date, dtype: object,\n",
       " 588    2020-03-18\n",
       " Name: Date, dtype: object)"
      ]
     },
     "execution_count": 59,
     "metadata": {},
     "output_type": "execute_result"
    }
   ],
   "source": [
    "wynn_top_gain = WYNN[\"log_adj_close\"].max()\n",
    "wynn_top_loss = WYNN[\"log_adj_close\"].min()\n",
    "WYNN.loc[WYNN[\"log_adj_close\"] == wynn_top_gain][\"Date\"],WYNN.loc[WYNN[\"log_adj_close\"] == wynn_top_loss][\"Date\"]"
   ]
  },
  {
   "cell_type": "markdown",
   "metadata": {},
   "source": [
    "5. What is the average calendar weekly volume for each company? Hint: check how to\n",
    "resample pandas DF"
   ]
  },
  {
   "cell_type": "code",
   "execution_count": null,
   "metadata": {},
   "outputs": [],
   "source": []
  },
  {
   "cell_type": "markdown",
   "metadata": {},
   "source": [
    "6. Which company recorded the highest total return over the whole period?"
   ]
  },
  {
   "cell_type": "code",
   "execution_count": 72,
   "metadata": {},
   "outputs": [
    {
     "name": "stdout",
     "output_type": "stream",
     "text": [
      "0\n"
     ]
    }
   ],
   "source": [
    "AMGN[\"return\"] = AMGN[\"Close\"] - AMGN[\"Open\"]\n",
    "amgn_return = AMGN[\"return\"].sum()\n",
    "BA[\"return\"] = BA[\"Close\"] - BA[\"Open\"]\n",
    "ba_return = BA[\"return\"].sum()\n",
    "MRO[\"return\"] = MRO[\"Close\"] - MRO[\"Open\"]\n",
    "mro_return = MRO[\"return\"].sum()\n",
    "WYNN[\"return\"] = WYNN[\"Close\"] - WYNN[\"Open\"]\n",
    "wynn_return = WYNN[\"return\"].sum()\n",
    "\n",
    "total_returns = [amgn_return, ba_return, mro_return, wynn_return]\n",
    "for i in range(len(total_returns)):\n",
    "    if total_returns[i] == max(amgn_return, ba_return, mro_return, wynn_return):\n",
    "        print(i)\n",
    "\n"
   ]
  },
  {
   "cell_type": "markdown",
   "metadata": {},
   "source": [
    "Since we got index zero, we can see that the highest total return over the whole period has company AMGN"
   ]
  },
  {
   "cell_type": "markdown",
   "metadata": {},
   "source": [
    "7. Plot the log-returns of the companies (ideally in the same plot)"
   ]
  },
  {
   "cell_type": "code",
   "execution_count": 73,
   "metadata": {},
   "outputs": [],
   "source": [
    "AMGN[\"log_return\"] = AMGN[\"return\"].apply(np.log)\n",
    "BA[\"log_return\"] = BA[\"return\"].apply(np.log)\n",
    "MRO[\"log_return\"] = MRO[\"return\"].apply(np.log)\n",
    "WYNN[\"log_return\"] = WYNN[\"return\"].apply(np.log)"
   ]
  },
  {
   "cell_type": "code",
   "execution_count": 78,
   "metadata": {},
   "outputs": [
    {
     "data": {
      "text/plain": [
       "<Axes: >"
      ]
     },
     "execution_count": 78,
     "metadata": {},
     "output_type": "execute_result"
    },
    {
     "data": {
      "image/png": "[encoded data removed]",
      "text/plain": [
       "<Figure size 1500x500 with 1 Axes>"
      ]
     },
     "metadata": {},
     "output_type": "display_data"
    }
   ],
   "source": [
    "AMGN[\"log_return\"].plot(figsize = (15,5), label = \"AMGN\", legend = True)"
   ]
  },
  {
   "cell_type": "code",
   "execution_count": null,
   "metadata": {},
   "outputs": [],
   "source": []
  }
 ],
 "metadata": {
  "kernelspec": {
   "display_name": "base",
   "language": "python",
   "name": "python3"
  },
  "language_info": {
   "codemirror_mode": {
    "name": "ipython",
    "version": 3
   },
   "file_extension": ".py",
   "mimetype": "text/x-python",
   "name": "python",
   "nbconvert_exporter": "python",
   "pygments_lexer": "ipython3",
   "version": "3.11.5"
  }
 },
 "nbformat": 4,
 "nbformat_minor": 2
}
